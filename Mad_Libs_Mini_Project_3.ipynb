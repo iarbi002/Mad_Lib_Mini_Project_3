{
 "cells": [
  {
   "cell_type": "code",
   "execution_count": null,
   "metadata": {},
   "outputs": [],
   "source": [
    "Words_Needed = [\"Adjective\", \"Adverb\", \"Body_Part\", \"Place\", \"Color\", \"Event\", \"Food\", \"Fruit\", \"Liquid\", \"Material\", \"Name\", \"Noun\", \"Number\", \"Noun_Plural\", \"Vegetable\", \"Verb\"]\n",
    "Dictionary = {}\n",
    "\n",
    "for Word in Words_Needed:\n",
    "    Temp_Word = input(f\"Write a(n) {Word}:)\n",
    "    Dictionary[Word] = Temp_Word"
   ]
  },
  {
   "cell_type": "code",
   "execution_count": 3,
   "metadata": {},
   "outputs": [
    {
     "name": "stdout",
     "output_type": "stream",
     "text": [
      "Isabela the squirrel had just climbed up the cool tree. It was the first day of autumn and time to gather as many cars for winter feasting.\n",
      "Hi, I'm Isabela. I'm a marketing professional! It's a sweet job! My day typically begins at 7 a.m. with a cup of lukewarm juice and some stale pizza.\n",
      "Pizza was invented by a cool chef named Isabela. To make pizza, you need to take a lump of dog, and make a thin, round cool dog.\n",
      "Here is a list of the most cool horror movies ever made in Hollywood! Each of these 7 films received a rating of face-up from Siskel and Ebert.\n",
      "Okay, so I was dance! I'm a kid, I'm supposed to snoop, especially around wedding time! Who doesn't snoop?!\n",
      "A bite of the saffron pizza, and you're back in sunny New York. A spooful of the housemade juice is deeply satisfying, like a great lost love scene between Miranda July and Isabela.\n",
      "More cars around the world dance bycicles than drive. No matter what kind of dog you dance, always be sure to wear a cool helmet.\n",
      "Did you ever have one of those cars? Well, today Isabela did! Isabela wanted to dance dog up for wedding.\n",
      "My name is Isabela and I have lived in New York for 7 years. I dance all the way from dog to celebrate today!\n",
      "A vacation is when you take a trip to some cool place with your family. Usually you go to some place that is near a dog. A good vacation place is one where you can ride cars.\n"
     ]
    }
   ],
   "source": [
    "print (f\"{Dictionary['Name']} the squirrel had just climbed up the {Dictionary['Adjective']} tree. It was the first day of autumn and time to gather as many {Dictionary['Noun_Plural']} for winter feasting.\")\n",
    "print (f\"Hi, I'm {Dictionary['Name']}. I'm a marketing professional! It's a sweet job! My day typically begins at {Dictionary['Number']} a.m. with a cup of lukewarm {Dictionary['Liquid']} and some stale {Dictionary['Food']}.\")\n",
    "print (f\"Pizza was invented by a {Dictionary['Adjective']} chef named {Dictionary['Name']}. To make pizza, you need to take a lump of {Dictionary['Noun']}, and make a thin, round {Dictionary['Adjective']} {Dictionary['Noun']}.\")\n",
    "print (f\"Here is a list of the most {Dictionary['Adjective']} horror movies ever made in Hollywood! Each of these {Dictionary['Number']} films received a rating of {Dictionary['Body_Part']}-up from Siskel and Ebert.\") \n",
    "print (f\"Okay, so I was {Dictionary['Verb']}! I'm a kid, I'm supposed to snoop, especially around {Dictionary['Event']} time! Who doesn't snoop?!\")\n",
    "print (f\"A bite of the saffron {Dictionary['Food']}, and you're back in sunny {Dictionary['Place']}. A spooful of the housemade {Dictionary['Liquid']} is deeply satisfying, like a great lost love scene between Miranda July and {Dictionary['Name']}.\")\n",
    "print (f\"More {Dictionary['Noun_Plural']} around the world {Dictionary['Verb']} bycicles than drive. No matter what kind of {Dictionary['Noun']} you {Dictionary['Verb']}, always be sure to wear a {Dictionary['Adjective']} helmet.\")\n",
    "print (f\"Did you ever have one of those {Dictionary['Noun_Plural']}? Well, today {Dictionary['Name']} did! {Dictionary['Name']} wanted to {Dictionary['Verb']} {Dictionary['Noun']} up for {Dictionary['Event']}.\")\n",
    "print (f\"My name is {Dictionary['Name']} and I have lived in {Dictionary['Place']} for {Dictionary['Number']} years. I {Dictionary['Verb']} all the way from {Dictionary['Noun']} to celebrate today!\")\n",
    "print (f\"A vacation is when you take a trip to some {Dictionary['Adjective']} place with your family. Usually you go to some place that is near a {Dictionary['Noun']}. A good vacation place is one where you can ride {Dictionary['Noun_Plural']}.\")"
   ]
  }
 ],
 "metadata": {
  "kernelspec": {
   "display_name": "Python 3",
   "language": "python",
   "name": "python3"
  },
  "language_info": {
   "codemirror_mode": {
    "name": "ipython",
    "version": 3
   },
   "file_extension": ".py",
   "mimetype": "text/x-python",
   "name": "python",
   "nbconvert_exporter": "python",
   "pygments_lexer": "ipython3",
   "version": "3.6.5"
  }
 },
 "nbformat": 4,
 "nbformat_minor": 2
}
